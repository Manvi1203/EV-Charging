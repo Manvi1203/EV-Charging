{
  "cells": [
    {
      "cell_type": "markdown",
      "metadata": {
        "id": "view-in-github",
        "colab_type": "text"
      },
      "source": [
        "<a href=\"https://colab.research.google.com/github/Manvi1203/EV-Charging/blob/main/EV_Vehicles_Charging.ipynb\" target=\"_parent\"><img src=\"https://colab.research.google.com/assets/colab-badge.svg\" alt=\"Open In Colab\"/></a>"
      ]
    },
    {
      "cell_type": "code",
      "execution_count": null,
      "metadata": {
        "colab": {
          "base_uri": "https://localhost:8080/"
        },
        "id": "87P9APQtwF9j",
        "outputId": "19e33526-ed84-4531-8f58-ca10e2557374"
      },
      "outputs": [
        {
          "output_type": "stream",
          "name": "stdout",
          "text": [
            "\u001b[33m\r0% [Working]\u001b[0m\r            \rHit:1 http://archive.ubuntu.com/ubuntu focal InRelease\n",
            "\u001b[33m\r0% [Waiting for headers] [Connected to cloud.r-project.org (18.67.76.79)] [Conn\u001b[0m\r                                                                               \rGet:2 http://security.ubuntu.com/ubuntu focal-security InRelease [114 kB]\n",
            "\r                                                                               \rHit:3 https://cloud.r-project.org/bin/linux/ubuntu focal-cran40/ InRelease\n",
            "\u001b[33m\r0% [Waiting for headers] [2 InRelease 14.2 kB/114 kB 12%] [Connecting to ppa.la\u001b[0m\r                                                                               \rHit:4 http://archive.ubuntu.com/ubuntu focal-updates InRelease\n",
            "\u001b[33m\r0% [Waiting for headers] [2 InRelease 14.2 kB/114 kB 12%] [Connecting to ppa.la\u001b[0m\r                                                                               \rGet:5 http://archive.ubuntu.com/ubuntu focal-backports InRelease [108 kB]\n",
            "\u001b[33m\r0% [5 InRelease 11.3 kB/108 kB 10%] [2 InRelease 37.3 kB/114 kB 33%] [Connectin\u001b[0m\u001b[33m\r0% [5 InRelease 48.9 kB/108 kB 45%] [Connecting to ppa.launchpad.net (185.125.1\u001b[0m\u001b[33m\r                                                                               \r0% [Waiting for headers] [Waiting for headers]\u001b[0m\r                                              \rHit:6 https://developer.download.nvidia.com/compute/cuda/repos/ubuntu2004/x86_64  InRelease\n",
            "Hit:7 http://ppa.launchpad.net/c2d4u.team/c2d4u4.0+/ubuntu focal InRelease\n",
            "Hit:8 http://ppa.launchpad.net/cran/libgit2/ubuntu focal InRelease\n",
            "Hit:9 http://ppa.launchpad.net/deadsnakes/ppa/ubuntu focal InRelease\n",
            "Hit:10 http://ppa.launchpad.net/graphics-drivers/ppa/ubuntu focal InRelease\n",
            "Hit:11 http://ppa.launchpad.net/ubuntugis/ppa/ubuntu focal InRelease\n",
            "Fetched 222 kB in 1s (186 kB/s)\n",
            "Reading package lists... Done\n",
            "Building dependency tree       \n",
            "Reading state information... Done\n",
            "23 packages can be upgraded. Run 'apt list --upgradable' to see them.\n"
          ]
        }
      ],
      "source": [
        "!apt update\n",
        "!apt-get install openjdk-8-jdk-headless -qq > /dev/null"
      ]
    },
    {
      "cell_type": "code",
      "execution_count": null,
      "metadata": {
        "id": "i9u2GGjYwNtL"
      },
      "outputs": [],
      "source": [
        "!wget -q https://archive.apache.org/dist/spark/spark-3.0.0/spark-3.0.0-bin-hadoop3.2.tgz"
      ]
    },
    {
      "cell_type": "code",
      "execution_count": null,
      "metadata": {
        "id": "SGKGHVklwOU-"
      },
      "outputs": [],
      "source": [
        "!tar xf spark-3.0.0-bin-hadoop3.2.tgz"
      ]
    },
    {
      "cell_type": "code",
      "execution_count": null,
      "metadata": {
        "id": "Y-9OokBWwQ79"
      },
      "outputs": [],
      "source": [
        "!pip install -q findspark\n"
      ]
    },
    {
      "cell_type": "code",
      "execution_count": null,
      "metadata": {
        "id": "fkqO65-_wTPh"
      },
      "outputs": [],
      "source": [
        "# set your spark folder to your system path environment. \n",
        "import os\n",
        "os.environ[\"JAVA_HOME\"] = \"/usr/lib/jvm/java-8-openjdk-amd64\"\n",
        "os.environ[\"SPARK_HOME\"] = \"/content/spark-3.0.0-bin-hadoop3.2\""
      ]
    },
    {
      "cell_type": "code",
      "execution_count": null,
      "metadata": {
        "id": "zjMp6_xQwTVz"
      },
      "outputs": [],
      "source": [
        "# install findspark using pip\n",
        "!pip install -q findspark"
      ]
    },
    {
      "cell_type": "code",
      "execution_count": null,
      "metadata": {
        "id": "mzFE1qopwZcA"
      },
      "outputs": [],
      "source": [
        "import findspark\n",
        "findspark.init()"
      ]
    },
    {
      "cell_type": "code",
      "execution_count": null,
      "metadata": {
        "id": "geRz9GxvwcIp"
      },
      "outputs": [],
      "source": [
        "from pyspark.sql import SparkSession\n",
        "# spark = SparkSession.builder.master(\"local[*]\").getOrCreate()\n",
        "spark = SparkSession.builder\\\n",
        "        .master(\"local\")\\\n",
        "        .appName(\"Colab\")\\\n",
        "        .config('spark.ui.port', '4050')\\\n",
        "        .getOrCreate()\n",
        "sc = spark.sparkContext"
      ]
    },
    {
      "cell_type": "code",
      "execution_count": null,
      "metadata": {
        "colab": {
          "base_uri": "https://localhost:8080/",
          "height": 219
        },
        "id": "tOJxwrkKwgCu",
        "outputId": "6f3c607d-438f-4097-9d93-1aa53e3f3b76"
      },
      "outputs": [
        {
          "output_type": "execute_result",
          "data": {
            "text/plain": [
              "<pyspark.sql.session.SparkSession at 0x7f6d1ed78a30>"
            ],
            "text/html": [
              "\n",
              "            <div>\n",
              "                <p><b>SparkSession - in-memory</b></p>\n",
              "                \n",
              "        <div>\n",
              "            <p><b>SparkContext</b></p>\n",
              "\n",
              "            <p><a href=\"http://c996910316ba:4050\">Spark UI</a></p>\n",
              "\n",
              "            <dl>\n",
              "              <dt>Version</dt>\n",
              "                <dd><code>v3.0.0</code></dd>\n",
              "              <dt>Master</dt>\n",
              "                <dd><code>local</code></dd>\n",
              "              <dt>AppName</dt>\n",
              "                <dd><code>Colab</code></dd>\n",
              "            </dl>\n",
              "        </div>\n",
              "        \n",
              "            </div>\n",
              "        "
            ]
          },
          "metadata": {},
          "execution_count": 95
        }
      ],
      "source": [
        "#@title\n",
        "spark\n"
      ]
    },
    {
      "cell_type": "code",
      "execution_count": null,
      "metadata": {
        "id": "L0_Mq_XxwiKk"
      },
      "outputs": [],
      "source": [
        "# Read JSON file into dataframe\n",
        "df = spark.read.csv(\"/content/acn_data_2018_20.csv\", header=True, inferSchema=True, multiLine=True)\n"
      ]
    },
    {
      "cell_type": "code",
      "execution_count": null,
      "metadata": {
        "colab": {
          "base_uri": "https://localhost:8080/"
        },
        "id": "gyvdqt3MwtXj",
        "outputId": "5eb790ae-a024-4eb0-827d-96bb73ed4885"
      },
      "outputs": [
        {
          "output_type": "stream",
          "name": "stdout",
          "text": [
            "root\n",
            " |-- _id: string (nullable = true)\n",
            " |-- clusterID: integer (nullable = true)\n",
            " |-- connectionTime: string (nullable = true)\n",
            " |-- disconnectTime: string (nullable = true)\n",
            " |-- doneChargingTime: string (nullable = true)\n",
            " |-- kWhDelivered: double (nullable = true)\n",
            " |-- sessionID: string (nullable = true)\n",
            " |-- siteID: integer (nullable = true)\n",
            " |-- spaceID: string (nullable = true)\n",
            " |-- stationID: string (nullable = true)\n",
            " |-- timezone: string (nullable = true)\n",
            " |-- userID: integer (nullable = true)\n",
            " |-- userInputs: string (nullable = true)\n",
            "\n"
          ]
        }
      ],
      "source": [
        "df.printSchema()"
      ]
    },
    {
      "cell_type": "code",
      "execution_count": null,
      "metadata": {
        "id": "9z--Z6jAwxCX"
      },
      "outputs": [],
      "source": [
        "import json\n",
        "import numpy as np\n",
        "import pandas as pd"
      ]
    },
    {
      "cell_type": "code",
      "execution_count": null,
      "metadata": {
        "colab": {
          "base_uri": "https://localhost:8080/"
        },
        "id": "jqI_D0-owza5",
        "outputId": "767d2b0e-f023-49ad-fcc7-5faa6c9615db"
      },
      "outputs": [
        {
          "output_type": "stream",
          "name": "stdout",
          "text": [
            "Files users.csv, charging.csv are created.\n"
          ]
        }
      ],
      "source": [
        "from pyspark.sql.types import StructType, StructField, StringType\n",
        "\n",
        "# creating a table with information about charging sessions\n",
        "charging = df.drop(df[\"userInputs\"])\n",
        "charging = charging.toPandas()\n",
        "\n",
        "# creating a table with information about users\n",
        "user_input_0 = df[['userInputs']]\n",
        "user_input = user_input_0.na.drop()\n",
        "rdd = user_input.rdd.map(list)\n",
        "rdd1 = rdd.flatMap(lambda x: x[0])\n",
        "\n",
        "# Define the schema for the users DataFrame\n",
        "schema = StructType([StructField(\"userId\", StringType(), True)])\n",
        "\n",
        "# Create a DataFrame from the RDD and the schema\n",
        "users = spark.createDataFrame(rdd1.map(lambda x: (x,)), schema=schema)\n",
        "users = users.toPandas()\n",
        "\n",
        "if __name__ == \"__main__\":\n",
        "    charging.to_csv('charging.csv')\n",
        "    users.to_csv('users.csv')\n",
        "    print ('Files users.csv, charging.csv are created.')\n"
      ]
    },
    {
      "cell_type": "code",
      "execution_count": null,
      "metadata": {
        "id": "KDpvrdKU3JL7"
      },
      "outputs": [],
      "source": [
        "charging_to_clean = pd.read_csv('/content/charging.csv')\n",
        "charging_to_clean['ConnectionTime'] = pd.to_datetime(\n",
        "    charging_to_clean.connectionTime,\n",
        "    infer_datetime_format=True)\n",
        "charging_to_clean['DisconnectTime'] = pd.to_datetime(\n",
        "    charging_to_clean.disconnectTime,\n",
        "    infer_datetime_format=True)\n",
        "charging_to_clean['DoneCharging'] = pd.to_datetime(\n",
        "    charging_to_clean.doneChargingTime,\n",
        "    infer_datetime_format=True)\n",
        "charging = charging_to_clean.drop(\n",
        "    columns=[\n",
        "        'connectionTime',\n",
        "        'disconnectTime',\n",
        "        'doneChargingTime',\n",
        "        'Unnamed: 0'])"
      ]
    },
    {
      "cell_type": "code",
      "execution_count": null,
      "metadata": {
        "id": "iC3wzvbd2SyS",
        "colab": {
          "base_uri": "https://localhost:8080/"
        },
        "outputId": "474768f8-ff2f-4bd0-ceea-9962d79f66df"
      },
      "outputs": [
        {
          "output_type": "execute_result",
          "data": {
            "text/plain": [
              "_id                       object\n",
              "clusterID                  int64\n",
              "kWhDelivered             float64\n",
              "sessionID                 object\n",
              "siteID                     int64\n",
              "spaceID                   object\n",
              "stationID                 object\n",
              "timezone                  object\n",
              "userID                   float64\n",
              "ConnectionTime    datetime64[ns]\n",
              "DisconnectTime    datetime64[ns]\n",
              "DoneCharging      datetime64[ns]\n",
              "dtype: object"
            ]
          },
          "metadata": {},
          "execution_count": 102
        }
      ],
      "source": [
        "charging.dtypes"
      ]
    },
    {
      "cell_type": "code",
      "execution_count": null,
      "metadata": {
        "id": "GozZOKw_0X1O",
        "colab": {
          "base_uri": "https://localhost:8080/"
        },
        "outputId": "87857064-1789-4345-b669-be1f8564e357"
      },
      "outputs": [
        {
          "output_type": "execute_result",
          "data": {
            "text/plain": [
              "userId    object\n",
              "dtype: object"
            ]
          },
          "metadata": {},
          "execution_count": 103
        }
      ],
      "source": [
        "users.dtypes"
      ]
    },
    {
      "cell_type": "markdown",
      "metadata": {
        "id": "7F_IrOmC0FFP"
      },
      "source": [
        "#Analysing Data"
      ]
    },
    {
      "cell_type": "code",
      "execution_count": null,
      "metadata": {
        "id": "hWMlX35sw3bG"
      },
      "outputs": [],
      "source": [
        "import pandas as pd\n",
        "from matplotlib import pyplot as plt\n",
        "from scipy import stats\n",
        "import numpy as np\n",
        "import seaborn as sns\n",
        "import plotly.express as px"
      ]
    },
    {
      "cell_type": "code",
      "execution_count": null,
      "metadata": {
        "id": "DSJiS9KW0IUX",
        "colab": {
          "base_uri": "https://localhost:8080/"
        },
        "outputId": "21c67931-fb57-4fd5-af1b-d4dd9b3f23e7"
      },
      "outputs": [
        {
          "output_type": "stream",
          "name": "stdout",
          "text": [
            "This dataset has information about Unnamed: 0    88232\n",
            "userId           39\n",
            "dtype: int64\n",
            "              unique users and Unnamed: 0          12099\n",
            "_id                 12099\n",
            "clusterID               1\n",
            "connectionTime      12068\n",
            "disconnectTime      12072\n",
            "doneChargingTime    12045\n",
            "kWhDelivered         8221\n",
            "sessionID           12099\n",
            "siteID                  1\n",
            "spaceID                54\n",
            "stationID              54\n",
            "timezone                1\n",
            "userID                 76\n",
            "dtype: int64 charging sessions.\n",
            "Time period: Wed, 30 May 2018 23:36:31 GMT -\n",
            "              Fri, 01 Jun 2018 00:00:40 GMT\n"
          ]
        }
      ],
      "source": [
        "def avg_reguest_by_hour(hour, df=users):\n",
        "    '''\n",
        "    Calculates average size of charging requests for each hour\n",
        "    '''\n",
        "    users_new = users[users.kWhRequested <= 90]\n",
        "    new_df = users_new[users_new.modifiedAt.dt.hour == hour]\n",
        "    avg_charge_request = new_df.kWhRequested.mean()\n",
        "\n",
        "def avg_requests(ls):\n",
        "    '''\n",
        "    Calculats avg requests for all hours in the list\n",
        "    '''\n",
        "    result = []\n",
        "    for i in ls:\n",
        "        result.append(avg_reguest_by_hour(i))\n",
        "    return result\n",
        "\n",
        "if __name__ =='__main__':\n",
        "    users = pd.read_csv('/content/users.csv')\n",
        "    charging = pd.read_csv('/content/charging.csv')\n",
        "    hours = list(range(24))\n",
        "\n",
        "    # prints general information about the dataset\n",
        "    print(f'''This dataset has information about {users.nunique()}\n",
        "              unique users and {charging.nunique()} charging sessions.''')\n",
        "    print(f'''Time period: {charging.connectionTime.max()} -\n",
        "              {charging.connectionTime.min()}''')"
      ]
    },
    {
      "cell_type": "code",
      "execution_count": null,
      "metadata": {
        "id": "XTSMGwiM0_gr",
        "colab": {
          "base_uri": "https://localhost:8080/",
          "height": 488
        },
        "outputId": "e0ccb396-a595-4acb-80ca-cbab67120cae"
      },
      "outputs": [
        {
          "output_type": "display_data",
          "data": {
            "text/plain": [
              "<Figure size 1152x432 with 1 Axes>"
            ],
            "image/png": "[encoded data removed]"
          },
          "metadata": {
            "needs_background": "light"
          }
        }
      ],
      "source": [
        "charging_to_clean = pd.read_csv('/content/charging.csv')\n",
        "charging_to_clean['ConnectionTime'] = pd.to_datetime(\n",
        "    charging_to_clean.connectionTime,\n",
        "    infer_datetime_format=True)\n",
        "charging_to_clean['DisconnectTime'] = pd.to_datetime(\n",
        "    charging_to_clean.disconnectTime,\n",
        "    infer_datetime_format=True)\n",
        "charging_to_clean['DoneCharging'] = pd.to_datetime(\n",
        "    charging_to_clean.doneChargingTime,\n",
        "    infer_datetime_format=True)\n",
        "charging = charging_to_clean.drop(\n",
        "    columns=[\n",
        "        'connectionTime',\n",
        "        'disconnectTime',\n",
        "        'doneChargingTime',\n",
        "        'Unnamed: 0'])\n",
        "# generates a graph of the total number of charging sessions for each month\n",
        "plt.rcParams.update({'font.size': 16})\n",
        "fig, ax = plt.subplots(figsize=(16, 4))\n",
        "ax = (charging[\"ConnectionTime\"].groupby([charging[\"ConnectionTime\"].dt.year, charging[\"ConnectionTime\"].dt.month]).count().plot(kind=\"bar\", figsize=(16, 6), color=\"#003f5c\"))\n",
        "ax.set_xlabel('Date: year, month')\n",
        "ax.set_ylabel('Number of charging sessions occured')\n",
        "ax.set_title('Charging sessions per month, 2018 - 2020')\n",
        "plt.savefig(\"charging_sessions11.png\", dpi=500)"
      ]
    },
    {
      "cell_type": "code",
      "execution_count": null,
      "metadata": {
        "id": "GT7lW7Ip5Fp_",
        "colab": {
          "base_uri": "https://localhost:8080/",
          "height": 414
        },
        "outputId": "60257cf7-7106-4c69-f3b9-b694cb0cba7a"
      },
      "outputs": [
        {
          "output_type": "display_data",
          "data": {
            "text/plain": [
              "<Figure size 1152x432 with 1 Axes>"
            ],
            "image/png": "[encoded data removed]"
          },
          "metadata": {
            "needs_background": "light"
          }
        }
      ],
      "source": [
        "# generates a graph of the total number\n",
        "    # of charging sessions for each day of the week\n",
        "fig, ax = plt.subplots(figsize=(16, 6))\n",
        "ax = (charging[\"ConnectionTime\"].groupby([\n",
        "    charging[\"ConnectionTime\"].dt.weekday])\n",
        "    .count().plot(kind=\"bar\", figsize=(16, 6), color=\"#003f5c\"))\n",
        "ax.set_xlabel('Day of the week')\n",
        "ax.set_ylabel('Number of charging sessions')\n",
        "ax.set_ylim(500, 2500)\n",
        "ax.set_title('Charging sessions per day, Monday - Sunday')\n",
        "plt.savefig(\"charging_sessions12.png\", dpi=500)"
      ]
    },
    {
      "cell_type": "code",
      "execution_count": null,
      "metadata": {
        "id": "yJGFQEbd6LRB",
        "colab": {
          "base_uri": "https://localhost:8080/",
          "height": 876
        },
        "outputId": "2b789049-a8c2-45fa-bca9-baa1bba32d42"
      },
      "outputs": [
        {
          "output_type": "stream",
          "name": "stdout",
          "text": [
            "                clusterID  kWhDelivered  siteID      userID\n",
            "ConnectionTime                                             \n",
            "0                    39.0      9.608284     2.0  263.419355\n",
            "1                    39.0      9.072646     2.0  285.764706\n",
            "2                    39.0      9.339883     2.0  328.958333\n",
            "3                    39.0      9.599984     2.0  343.588235\n",
            "4                    39.0      9.536303     2.0  288.642857\n",
            "5                    39.0      9.847791     2.0  309.111111\n",
            "6                    39.0      9.833012     2.0  291.000000\n",
            "7                    39.0      8.580922     2.0  217.000000\n",
            "8                    39.0     11.134344     2.0  102.000000\n",
            "9                    39.0     14.834304     2.0   67.000000\n",
            "10                   39.0      7.378575     2.0  250.500000\n",
            "11                   39.0     10.655480     2.0  348.000000\n",
            "12                   39.0      9.451270     2.0  565.125000\n",
            "13                   39.0      8.885098     2.0  167.884615\n",
            "14                   39.0      9.670035     2.0  336.511364\n",
            "15                   39.0      8.944952     2.0  293.415493\n",
            "16                   39.0      8.830916     2.0  327.261905\n",
            "17                   39.0      9.780556     2.0  275.538462\n",
            "18                   39.0      8.670845     2.0  409.500000\n",
            "19                   39.0      8.035671     2.0  349.700000\n",
            "20                   39.0      7.500517     2.0  303.263158\n",
            "21                   39.0      7.628176     2.0  300.000000\n",
            "22                   39.0      7.983448     2.0  297.105263\n",
            "23                   39.0      8.153681     2.0  315.454545\n"
          ]
        },
        {
          "output_type": "display_data",
          "data": {
            "text/plain": [
              "<Figure size 1152x432 with 1 Axes>"
            ],
            "image/png": "[encoded data removed]"
          },
          "metadata": {
            "needs_background": "light"
          }
        }
      ],
      "source": [
        "charging_to_clean = pd.read_csv('/content/charging.csv')\n",
        "charging_to_clean['ConnectionTime'] = pd.to_datetime(\n",
        "    charging_to_clean.connectionTime,\n",
        "    infer_datetime_format=True)\n",
        "charging_to_clean['DisconnectTime'] = pd.to_datetime(\n",
        "    charging_to_clean.disconnectTime,\n",
        "    infer_datetime_format=True)\n",
        "charging_to_clean['DoneCharging'] = pd.to_datetime(\n",
        "    charging_to_clean.doneChargingTime,\n",
        "    infer_datetime_format=True)\n",
        "charging = charging_to_clean.drop(\n",
        "    columns=[\n",
        "        'connectionTime',\n",
        "        'disconnectTime',\n",
        "        'doneChargingTime',\n",
        "        'Unnamed: 0'])\n",
        "# plotting average length of charging session by the hour of car arrival (start of charging session)\n",
        "charging_by_hour = charging.groupby(charging[\"ConnectionTime\"].dt.hour).mean()\n",
        "# print(charging_by_hour[\"kWhDelivered\"])\n",
        "print(charging_by_hour)\n",
        "fig, ax = plt.subplots(figsize=(16, 6))\n",
        "# y = charging_by_hour.time\n",
        "# x = hours\n",
        "ax=charging_by_hour[\"kWhDelivered\"].plot(kind=\"bar\",figsize=(16, 6), color=\"#003f5c\")\n",
        "ax.set_xlabel('Time of day')\n",
        "ax.set_ylabel('Power Delivered (in kWh)')\n",
        "ax.set_title('''Average power delivered for a car arriving at certain hour''')\n",
        "plt.savefig(\"charging_sessions13.png\", dpi=500)"
      ]
    }
  ],
  "metadata": {
    "colab": {
      "provenance": [],
      "include_colab_link": true
    },
    "kernelspec": {
      "display_name": "Python 3",
      "name": "python3"
    },
    "language_info": {
      "name": "python"
    }
  },
  "nbformat": 4,
  "nbformat_minor": 0
}